{
 "cells": [
  {
   "cell_type": "code",
   "execution_count": 1,
   "metadata": {},
   "outputs": [],
   "source": [
    "import requests\n",
    "import json\n",
    "import os\n",
    "\n",
    "DATA_DIR = os.path.join(os.path.dirname(os.getcwd()), 'data')\n",
    "JSON_PATH = os.path.join(DATA_DIR, 'tmdb.json')\n",
    "ELASTIC_URL = 'http://localhost:9200/'"
   ]
  },
  {
   "cell_type": "markdown",
   "metadata": {},
   "source": [
    "## <center> Проверка связи с elastic\n",
    "\n",
    "```\n",
    "curl -XGET \"http://elastic:9200/\"\n",
    "```"
   ]
  },
  {
   "cell_type": "code",
   "execution_count": 2,
   "metadata": {},
   "outputs": [],
   "source": [
    "def check_conn():\n",
    "    resp = requests.get(ELASTIC_URL)\n",
    "    print(resp)\n",
    "    return resp"
   ]
  },
  {
   "cell_type": "code",
   "execution_count": 3,
   "metadata": {},
   "outputs": [
    {
     "name": "stdout",
     "output_type": "stream",
     "text": [
      "<Response [200]>\n"
     ]
    }
   ],
   "source": [
    "resp = check_conn()"
   ]
  },
  {
   "cell_type": "code",
   "execution_count": 4,
   "metadata": {},
   "outputs": [
    {
     "data": {
      "text/plain": [
       "{'name': '0fzEmm7',\n",
       " 'cluster_name': 'docker-cluster',\n",
       " 'cluster_uuid': '0jl7TR0GTBS7WyV38Una8w',\n",
       " 'version': {'number': '6.5.4',\n",
       "  'build_flavor': 'default',\n",
       "  'build_type': 'tar',\n",
       "  'build_hash': 'd2ef93d',\n",
       "  'build_date': '2018-12-17T21:17:40.758843Z',\n",
       "  'build_snapshot': False,\n",
       "  'lucene_version': '7.5.0',\n",
       "  'minimum_wire_compatibility_version': '5.6.0',\n",
       "  'minimum_index_compatibility_version': '5.0.0'},\n",
       " 'tagline': 'You Know, for Search'}"
      ]
     },
     "execution_count": 4,
     "metadata": {},
     "output_type": "execute_result"
    }
   ],
   "source": [
    "resp.json()"
   ]
  },
  {
   "cell_type": "code",
   "execution_count": 5,
   "metadata": {},
   "outputs": [
    {
     "data": {
      "text/plain": [
       "'6.5.4'"
      ]
     },
     "execution_count": 5,
     "metadata": {},
     "output_type": "execute_result"
    }
   ],
   "source": [
    "ELASTIC_VERSION = resp.json()['version']['number']\n",
    "ELASTIC_VERSION"
   ]
  },
  {
   "cell_type": "markdown",
   "metadata": {},
   "source": [
    "## <center> Переиндексация всех документов"
   ]
  },
  {
   "cell_type": "markdown",
   "metadata": {},
   "source": [
    "Удаляем и снова создаем индекс. С помощью bulk API индексируем документы.\n",
    "\n",
    "```\n",
    "curl -XDELETE \"http://elastic:9200/tmdb\"\n",
    "\n",
    "curl -XPUT \"http://elastic:9200/tmdb\" -H 'Content-Type: application/json' -d'\n",
    "{\n",
    "    \"settings\" : {\n",
    "        \"index\" : {\n",
    "            \"number_of_shards\" : 1, \n",
    "            \"number_of_replicas\" : 0 \n",
    "        }\n",
    "    }\n",
    "}'\n",
    "\n",
    "```\n",
    "\n",
    "Чтобы убедиться, что индекс создался с правильными настройками\n",
    "```\n",
    "curl -XGET \"http://elastic:9200/tmdb/_settings\"\n",
    "```"
   ]
  },
  {
   "cell_type": "code",
   "execution_count": 6,
   "metadata": {},
   "outputs": [],
   "source": [
    "def extract():\n",
    "    with open(JSON_PATH, 'r') as f:\n",
    "        return json.loads(f.read())"
   ]
  },
  {
   "cell_type": "code",
   "execution_count": 7,
   "metadata": {},
   "outputs": [],
   "source": [
    "data = extract()"
   ]
  },
  {
   "cell_type": "code",
   "execution_count": 8,
   "metadata": {},
   "outputs": [
    {
     "data": {
      "text/plain": [
       "dict_keys(['poster_path', 'production_countries', 'revenue', 'overview', 'video', 'id', 'genres', 'title', 'tagline', 'vote_count', 'homepage', 'belongs_to_collection', 'original_language', 'status', 'spoken_languages', 'imdb_id', 'adult', 'backdrop_path', 'production_companies', 'release_date', 'popularity', 'original_title', 'budget', 'cast', 'directors', 'vote_average', 'runtime'])"
      ]
     },
     "execution_count": 8,
     "metadata": {},
     "output_type": "execute_result"
    }
   ],
   "source": [
    "some_key = list(data.keys())[0]\n",
    "data[some_key].keys()"
   ]
  },
  {
   "cell_type": "code",
   "execution_count": 9,
   "metadata": {},
   "outputs": [],
   "source": [
    "def reindex(analysisSettings={}, mappingSettings={}, movieDict={}):\n",
    "    settings = {\n",
    "        \"settings\" : {\n",
    "            \"index\" : {\n",
    "                \"number_of_shards\" : 1, \n",
    "                \"number_of_replicas\" : 0 \n",
    "            }\n",
    "        }\n",
    "    }\n",
    "    \n",
    "    if analysisSettings:\n",
    "        settings['analysis'] = analysisSettings\n",
    "\n",
    "    if mappingSettings:\n",
    "        settings['mappings'] = mappingSettings\n",
    "\n",
    "    resp = requests.delete(\"http://localhost:9200/tmdb\")\n",
    "    \n",
    "    put_headers = {'Content-Type': 'application/json'}\n",
    "    resp = requests.put(\"http://localhost:9200/tmdb\", \n",
    "                        data=json.dumps(settings), headers=put_headers)\n",
    "\n",
    "    bulkMovies = \"\"\n",
    "\n",
    "    for id, movie in movieDict.items(): \n",
    "        addCmd = {\"index\": {\"_index\": \"tmdb\",\n",
    "                            \"_type\": \"_doc\",\n",
    "                            \"_id\": movie[\"id\"]}}\n",
    "        bulkMovies += json.dumps(addCmd) + \"\\n\" + json.dumps(movie) + \"\\n\"\n",
    "    \n",
    "\n",
    "    headers = {'Content-Type': 'application/x-ndjson'}\n",
    "    resp = requests.post(\"http://localhost:9200/_bulk\", headers=headers, data=bulkMovies)\n",
    "    return resp    "
   ]
  },
  {
   "cell_type": "code",
   "execution_count": 10,
   "metadata": {},
   "outputs": [
    {
     "name": "stdout",
     "output_type": "stream",
     "text": [
      "CPU times: user 176 ms, sys: 7.57 ms, total: 183 ms\n",
      "Wall time: 1.53 s\n"
     ]
    }
   ],
   "source": [
    "%%time\n",
    "resp = reindex(movieDict=data)"
   ]
  },
  {
   "cell_type": "code",
   "execution_count": 11,
   "metadata": {},
   "outputs": [
    {
     "data": {
      "text/plain": [
       "200"
      ]
     },
     "execution_count": 11,
     "metadata": {},
     "output_type": "execute_result"
    }
   ],
   "source": [
    "resp.status_code"
   ]
  },
  {
   "cell_type": "code",
   "execution_count": null,
   "metadata": {},
   "outputs": [],
   "source": []
  }
 ],
 "metadata": {
  "kernelspec": {
   "display_name": "Python 3",
   "language": "python",
   "name": "python3"
  },
  "language_info": {
   "codemirror_mode": {
    "name": "ipython",
    "version": 3
   },
   "file_extension": ".py",
   "mimetype": "text/x-python",
   "name": "python",
   "nbconvert_exporter": "python",
   "pygments_lexer": "ipython3",
   "version": "3.7.1"
  }
 },
 "nbformat": 4,
 "nbformat_minor": 2
}
